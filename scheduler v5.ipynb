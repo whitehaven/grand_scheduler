{
 "cells": [
  {
   "cell_type": "markdown",
   "id": "766bc1e5-66d6-40ae-adcf-4de129f1bf0f",
   "metadata": {},
   "source": [
    "# Problem Representation"
   ]
  },
  {
   "cell_type": "markdown",
   "id": "87981501-d714-46ff-8da3-b5b612accc4c",
   "metadata": {},
   "source": [
    "## Variables"
   ]
  },
  {
   "cell_type": "markdown",
   "id": "04a545e5-1966-48bb-b37e-cb6abebecc8f",
   "metadata": {},
   "source": [
    "$ \\forall \\ Residents\\ \\times \\ Rotations\\ \\times \\ Weeks \\ \\exists \\ scheduled \\ [0,1]$"
   ]
  },
  {
   "cell_type": "markdown",
   "id": "3f7ce9c7-b80a-48bb-a6e0-95893fc6a154",
   "metadata": {},
   "source": [
    "Implemented elements are signified by checked boxes."
   ]
  },
  {
   "cell_type": "markdown",
   "id": "eeed6462-0e82-49cd-a1a8-97ecf1c9edf1",
   "metadata": {},
   "source": [
    "## Constraints"
   ]
  },
  {
   "cell_type": "markdown",
   "id": "cab9d99a-c1fc-4348-8a90-78450dee9a2d",
   "metadata": {},
   "source": [
    "### Primary constraints"
   ]
  },
  {
   "cell_type": "markdown",
   "id": "55896164-5623-499a-a753-3dc7d4aade11",
   "metadata": {},
   "source": [
    "- [x] Each resident must be scheduled on a rotation\n",
    "- [x] Rotations will only be scheduled if they can fit the prescribed number of weeks `min_contig_wks`\n",
    "- [x] Rotations can't have more residents scheduled than their `resident capacity`\n",
    "- [x] Rotations that require staff must be staffed"
   ]
  },
  {
   "cell_type": "markdown",
   "id": "ace92c7b-a7c0-4aaf-933b-8f62eb2f38c7",
   "metadata": {},
   "source": [
    "### Only pursue if primary problem feasible"
   ]
  },
  {
   "cell_type": "markdown",
   "id": "ff1f4d47-fd78-4625-8926-cfc8d0be7dae",
   "metadata": {},
   "source": [
    "- [ ] Each resident must be scheduled on a rotation ***or on vacation every week***\n",
    "- [ ] All new interns start in clinic or HS, then HS or clinic respectively.\n",
    "- [ ] Rotations that require intern or senior must be restricted by role"
   ]
  },
  {
   "cell_type": "markdown",
   "id": "5fa54253-02e4-4068-a520-fd3b8a1c2ae5",
   "metadata": {},
   "source": [
    "## Optimization Targets"
   ]
  },
  {
   "cell_type": "markdown",
   "id": "785cb18d-5b88-488c-9101-81caaf8f681a",
   "metadata": {},
   "source": [
    "- [ ] Maximize resident elective preferences\n",
    "- [ ] Maximize fit of vacation preferences"
   ]
  },
  {
   "cell_type": "markdown",
   "id": "d4434404-a432-45a8-9373-d979eb861871",
   "metadata": {},
   "source": [
    "## Uncertain implementation elements"
   ]
  },
  {
   "cell_type": "markdown",
   "id": "4695d50c-3f84-4785-8423-6113305c7e7a",
   "metadata": {},
   "source": [
    "### Role specification\n",
    "Many roles are restricted by year or intern/senior."
   ]
  },
  {
   "cell_type": "markdown",
   "id": "b078aed9-239c-473b-b992-461513e9df78",
   "metadata": {},
   "source": [
    "### Longitudinal requirements\n",
    "Residents must complete certain rotations, but have all 3 years to complete this.\n",
    "\n",
    "I suspect part of this would be pre-loading each resident's completed rotation weeks"
   ]
  },
  {
   "cell_type": "markdown",
   "id": "fd34fd65-64a5-4dc1-911d-9050fbcb9e7b",
   "metadata": {},
   "source": [
    "### Fungibility\n",
    "Some rotations meet requirements (or have limits) that span distinct rotation names.\n",
    "\n",
    "For example, a resident can only work 6 months in ICU settings *total* across all 3 years, regardless of expressed preferences. There may be many rotations which count as ICU, but each rotation has its own resident staffing requirement and may be preferred by residents.\n",
    "\n",
    "Perhaps House Staff is a better example - Orange and Green both have required staffing, but a resident need only complete House Staff rotations.\n",
    "\n",
    "This appears to require a mapping of rotation -> rotation category. Each category may have a requirement (minimum) and maximum assigned."
   ]
  },
  {
   "cell_type": "markdown",
   "id": "76691ee9-d131-4d31-92ba-ababd336d48c",
   "metadata": {},
   "source": [
    "### interval scheduling in `or-tools`\n",
    "May function better, but reportedly less efficient. This has not been a problem for pure feasibility - a near-real problem completes in 1.5s."
   ]
  },
  {
   "cell_type": "markdown",
   "id": "4d358f7d-196a-422f-8979-7ff20a80a22c",
   "metadata": {},
   "source": [
    "### Variable rotation availability\n",
    "variable availability of rotations - some rotations offered only in certain intervals"
   ]
  },
  {
   "cell_type": "markdown",
   "id": "f25ac137-ae57-432a-a50d-7a0768fcf3e1",
   "metadata": {},
   "source": [
    "## Barriers to successful completion"
   ]
  },
  {
   "cell_type": "markdown",
   "id": "69669aa5-e3f4-45a5-8bf9-226d33c94a64",
   "metadata": {
    "execution": {
     "iopub.execute_input": "2025-03-12T03:26:44.459635Z",
     "iopub.status.busy": "2025-03-12T03:26:44.459317Z",
     "iopub.status.idle": "2025-03-12T03:26:44.470024Z",
     "shell.execute_reply": "2025-03-12T03:26:44.467716Z",
     "shell.execute_reply.started": "2025-03-12T03:26:44.459611Z"
    }
   },
   "source": [
    "- uncertain how to take into account the next year"
   ]
  },
  {
   "cell_type": "markdown",
   "id": "c4009ca5-968f-4590-ada6-b60461c41f98",
   "metadata": {},
   "source": [
    "# Implementation"
   ]
  },
  {
   "cell_type": "markdown",
   "id": "223231a0-2bc1-40e8-a9f0-b1cb9a2b06d0",
   "metadata": {},
   "source": [
    "## Imports"
   ]
  },
  {
   "cell_type": "code",
   "execution_count": null,
   "id": "21bc8d06-b8cd-4779-94ed-63ce07128e05",
   "metadata": {
    "slideshow": {
     "slide_type": "slide"
    },
    "tags": []
   },
   "outputs": [],
   "source": [
    "import itertools as it\n",
    "\n",
    "import numpy as np\n",
    "import pandas as pd\n",
    "from opre_tools import negated_bounded_span, print_full\n",
    "from ortools.sat.python import cp_model\n",
    "\n",
    "MAX_WKS = 52"
   ]
  },
  {
   "cell_type": "markdown",
   "id": "49be5c11-1edf-469d-9d13-cacef7cf2eb7",
   "metadata": {},
   "source": [
    "### read data from excel file\n",
    "\n",
    "I acknowledge this is odd - it's just for ease of creating and editing input."
   ]
  },
  {
   "cell_type": "code",
   "execution_count": null,
   "id": "022ab537-651c-4e3c-8d6f-bbfe74a97644",
   "metadata": {
    "slideshow": {
     "slide_type": "subslide"
    },
    "tags": []
   },
   "outputs": [],
   "source": [
    "prefs = pd.read_excel(\"input.xlsx\",sheet_name=\"preferences\",index_col=\"resident_name\")\n",
    "rotations = pd.read_excel(\"input.xlsx\",sheet_name=\"rotations\",index_col='rotation_name')\n",
    "residents = pd.read_excel(\"input.xlsx\",sheet_name=\"residents\",index_col='resident_name')\n",
    "weeks = pd.read_excel(\"input.xlsx\",sheet_name=\"weeks\",index_col='week_n')\n",
    "categories = pd.read_excel(\"input.xlsx\",sheet_name=\"categories\",index_col='category')"
   ]
  },
  {
   "cell_type": "code",
   "execution_count": null,
   "id": "4dbb989e-b24d-4ce2-a6ca-aa379e798390",
   "metadata": {},
   "outputs": [],
   "source": [
    "prefs.head()"
   ]
  },
  {
   "cell_type": "code",
   "execution_count": null,
   "id": "1a227344-43a0-44e6-9b3f-e27714f3011f",
   "metadata": {},
   "outputs": [],
   "source": [
    "rotations.head()"
   ]
  },
  {
   "cell_type": "code",
   "execution_count": null,
   "id": "67ecfd40-8698-4cfb-88cd-d74c53da1b7e",
   "metadata": {},
   "outputs": [],
   "source": [
    "residents.head(30)"
   ]
  },
  {
   "cell_type": "code",
   "execution_count": null,
   "id": "7c442397-822d-4552-bb7a-b4e8c4e7ef77",
   "metadata": {},
   "outputs": [],
   "source": [
    "weeks.head()"
   ]
  },
  {
   "cell_type": "code",
   "execution_count": null,
   "id": "44c78055-7064-4af2-b0b8-f81fe9e5aef0",
   "metadata": {},
   "outputs": [],
   "source": [
    "# sig_categories = categories.query(\"(category_min_wks > 1) and (category_max_wks < @MAX_WKS)\")\n",
    "# sig_categories"
   ]
  },
  {
   "cell_type": "code",
   "execution_count": null,
   "id": "fde5dd23-8fc6-46b4-add8-de38ba7c6c16",
   "metadata": {},
   "outputs": [],
   "source": [
    "# rotations_s_t_categories = pd.merge(sig_categories,rotations,left_index=True,right_on=\"category\" )\n",
    "# rotations_s_t_categories"
   ]
  },
  {
   "cell_type": "code",
   "execution_count": null,
   "id": "1d3a6ce4-7330-43dc-8bd1-66f7ed48a72d",
   "metadata": {},
   "outputs": [],
   "source": [
    "rotations[(rotations.min_wks > 0) & (rotations.required_level == \"Senior\")]"
   ]
  },
  {
   "cell_type": "code",
   "execution_count": null,
   "id": "32bd3cc3-c2e5-4618-96e6-59115305a6c2",
   "metadata": {},
   "outputs": [],
   "source": [
    "for r, w in it.product(rotations.index, weeks.index):\n",
    "    print(r, rotations.resident_capacity[r])\n",
    "    break"
   ]
  },
  {
   "cell_type": "code",
   "execution_count": null,
   "id": "09b20258-22d9-48ea-b84b-551fd9770cea",
   "metadata": {},
   "outputs": [],
   "source": [
    "residents = residents[residents.resident_year == 3] # cut down for feasibility"
   ]
  },
  {
   "cell_type": "code",
   "execution_count": null,
   "id": "e03e545d-f22f-4522-93b7-190e67f59f04",
   "metadata": {
    "slideshow": {
     "slide_type": "slide"
    },
    "tags": []
   },
   "outputs": [],
   "source": [
    "model = cp_model.CpModel()\n",
    "\n",
    "d = model.NewBoolVarSeries(\n",
    "    \"bool_at_\",\n",
    "    pd.Index((list(it.product(residents.index, rotations.index, weeks.index)))),\n",
    ").sort_index()  # makes a dummy pd.Series with strings that are labels\n",
    "\n",
    "# every resident's week x must have exactly 1 rotation (has not had vacations incorporated)\n",
    "for n, w in it.product(residents.index, weeks.index):\n",
    "    model.AddExactlyOne(d.loc[pd.IndexSlice[n, :, w]])\n",
    "\n",
    "# # Every rotation can only go one place each week >> JUST \n",
    "# for r, w in it.product(rotations.index, weeks.index):\n",
    "#     model.AddAtMostOne(d.loc[pd.IndexSlice[:, r, w]])\n",
    "\n",
    "# apply max capacity to each rotation for each rotation:week index\n",
    "for r, w in it.product(rotations.index, weeks.index):\n",
    "    model.Add(sum(d.loc[pd.IndexSlice[:, r, w]]) <= rotations.resident_capacity[r]*4)\n",
    "\n",
    "# for each rotation, set max weeks to use\n",
    "for rot_name, rot_tail in rotations.iterrows():\n",
    "    for res in residents.index:\n",
    "        if rot_tail[\"max_wks\"] <= MAX_WKS:  # may be\n",
    "            model.Add(\n",
    "                sum(d.loc[pd.IndexSlice[res, rot_name, :]]) <= rot_tail[\"max_wks\"]\n",
    "            )\n",
    "\n",
    "# # ^^^ set senior requirements\n",
    "# for rot_name, rot_tail in rotations[(rotations.min_wks > 0) & (rotations.required_level == \"Senior\")].iterrows():\n",
    "#     for res in residents[residents.resident_year > 1].index:\n",
    "#         model.Add(sum(d.loc[pd.IndexSlice[res, rot_name, :]]) >= rot_tail.min_wks)\n",
    "\n",
    "# # ^^^ set intern requirements\n",
    "# for rot_name, rot_tail in rotations[(rotations.min_wks > 0) & (rotations.required_level == \"Intern\")].iterrows():\n",
    "#     for res in residents[residents.resident_year == 1].index:\n",
    "#         model.Add(sum(d.loc[pd.IndexSlice[res, rot_name, :]]) >= rot_tail.min_wks)\n",
    "\n",
    "# for any rotations which require contiguous weeks\n",
    "rotations_with_contig_reqs = rotations[rotations.min_contig_wks > 1]\n",
    "for contig_rot, contig_rot_tail in rotations_with_contig_reqs.iterrows():\n",
    "    for res in residents.index:\n",
    "        hard_min = contig_rot_tail.min_contig_wks\n",
    "        works = d.loc[pd.IndexSlice[res,contig_rot,:]]\n",
    "        for length in range(1,hard_min):\n",
    "            for start in range(len(works) - length + 1):\n",
    "                model.AddBoolOr(negated_bounded_span(works,start,length))\n",
    "\n",
    "print(model.ModelStats())"
   ]
  },
  {
   "cell_type": "code",
   "execution_count": null,
   "id": "32313a29-2c92-4617-a6dc-f252c4177dcd",
   "metadata": {},
   "outputs": [],
   "source": [
    "# # TODO for each rotation with a category - could do\n",
    "# for rot_name, rot_tail in rotations_s_t_categories.iterrows():\n",
    "#     print(f\"{rot_name} -  {rot_tail.category}\")\n",
    "#     for "
   ]
  },
  {
   "cell_type": "code",
   "execution_count": null,
   "id": "f2c39365-583d-4fef-b605-6fa4d7edb57a",
   "metadata": {
    "slideshow": {
     "slide_type": "slide"
    },
    "tags": []
   },
   "outputs": [],
   "source": [
    "# model.Maximize(\n",
    "#     sum(\n",
    "#         [\n",
    "#             d.loc[pd.IndexSlice[res, rot, wk]] * prefs.loc[res, rot]\n",
    "#             for res in residents.index\n",
    "#             for rot in rotations.index\n",
    "#             for wk in weeks.index\n",
    "#         ]\n",
    "#     )\n",
    "# )"
   ]
  },
  {
   "cell_type": "code",
   "execution_count": null,
   "id": "3be8489f-f8ab-4d36-ab65-8c13eeb0ff1b",
   "metadata": {
    "slideshow": {
     "slide_type": "slide"
    },
    "tags": []
   },
   "outputs": [],
   "source": [
    "solver = cp_model.CpSolver()\n",
    "solver.parameters.num_search_workers = 4\n",
    "solver.parameters.log_search_progress = True\n",
    "solver.log_callback = print\n",
    "status = solver.Solve(model)\n",
    "if status == cp_model.OPTIMAL:\n",
    "    print(\"optimal\")\n",
    "    # # The status tells us if we were able to compute a solution.\n",
    "    # for n, w in it.product(residents, weeks):\n",
    "    #     print(\n",
    "    #         \"{} {}\\n{}\".format(\n",
    "    #             n,\n",
    "    #             w,\n",
    "    #             solver.Values(d.loc[pd.IndexSlice[n, :, w]])[\n",
    "    #                 solver.Values(d.loc[pd.IndexSlice[n, :, w]]) != 0\n",
    "    #             ],\n",
    "    #         )\n",
    "    #     )\n",
    "    print(\"=====Stats:======\")\n",
    "    print(solver.SolutionInfo())\n",
    "    print(solver.ResponseStats())\n",
    "elif status == cp_model.FEASIBLE:\n",
    "    print(\"feasible\")\n",
    "    # # The status tells us if we were able to compute a solution.\n",
    "    # for n, w in it.product(residents, weeks):\n",
    "    #     print(\n",
    "    #         \"{} {}\\n{}\".format(\n",
    "    #             n,\n",
    "    #             w,\n",
    "    #             solver.Values(d.loc[pd.IndexSlice[n, :, w]])[\n",
    "    #                 solver.Values(d.loc[pd.IndexSlice[n, :, w]]) != 0\n",
    "    #             ],\n",
    "    #         )\n",
    "    #     )\n",
    "    print(\"=====Stats:======\")\n",
    "    print(solver.SolutionInfo())\n",
    "    print(solver.ResponseStats())\n",
    "else:\n",
    "    print(\"no solution\")"
   ]
  },
  {
   "cell_type": "code",
   "execution_count": null,
   "id": "4d8f3feb-3a27-4ad6-a397-964d0ffa27ea",
   "metadata": {
    "slideshow": {
     "slide_type": "slide"
    },
    "tags": []
   },
   "outputs": [],
   "source": [
    "print(solver.Values(d)[solver.Values(d) == 1].sort_index(level=(0, 2)))\n",
    "# solver.Values(d)[solver.Values(d) == 1].sort_index(level=(0, 2)).to_csv(\n",
    "#     \"D:/Informatics\\\\opre\\\\final_tabular.csv\"\n",
    "# )\n",
    "\n",
    "print(\n",
    "    solver.Values(d)[solver.Values(d) == 1].sort_index(level=(0, 2)).unstack().to_markdown()\n",
    ")\n",
    "# solver.Values(d)[solver.Values(d) == 1].sort_index(\n",
    "#     level=(0, 2)\n",
    "# ).unstack().to_csv(\"D:/Informatics\\\\opre\\\\final_grid.csv\")\n",
    "\n",
    "print_full(\n",
    "    solver.Values(d)[solver.Values(d) == 1]\n",
    "    .sort_index(level=(0, 2))\n",
    "    .unstack()\n",
    "    .reset_index()\n",
    "    .melt(id_vars=[\"level_0\", \"level_1\"])\n",
    "    .query(\"value == 1\")\n",
    "    .set_index([\"level_0\", \"variable\"])\n",
    "    .sort_index()[\"level_1\"]\n",
    "    .unstack()\n",
    ")"
   ]
  },
  {
   "cell_type": "code",
   "execution_count": null,
   "id": "4cd61f87-1ac4-4ef2-8bc8-3ebb3668c073",
   "metadata": {},
   "outputs": [],
   "source": [
    "print_full(solver.Values(d)[solver.Values(d) == 1].sort_index(level=(0, 2)).unstack())"
   ]
  },
  {
   "cell_type": "code",
   "execution_count": null,
   "id": "3a703c9d-0bd2-4e86-b657-40e07153012f",
   "metadata": {
    "tags": []
   },
   "outputs": [],
   "source": [
    "print(\n",
    "    solver.Values(d)[solver.Values(d) == 1]\n",
    "    .sort_index(level=(0, 2))\n",
    "    .unstack()\n",
    "    .reset_index()\n",
    "    .melt(id_vars=[\"level_0\", \"level_1\"])\n",
    "    .query(\"value == 1\")\n",
    "    .set_index([\"level_0\", \"variable\"])\n",
    "    .sort_index()[\"level_1\"]\n",
    "    .unstack()\n",
    ")"
   ]
  },
  {
   "cell_type": "code",
   "execution_count": null,
   "id": "9c99183f-4aff-4c6c-af05-b9631352bdce",
   "metadata": {},
   "outputs": [],
   "source": [
    "(\n",
    "    solver.Values(d)[solver.Values(d) == 1]\n",
    "    .sort_index(level=(0, 2))\n",
    "    .unstack()\n",
    "    .reset_index()\n",
    "    .melt(id_vars=[\"level_0\", \"level_1\"])\n",
    "    .query(\"value == 1\")\n",
    "    .set_index([\"level_0\", \"variable\"])\n",
    "    .sort_index()[\"level_1\"]\n",
    "    .unstack()\n",
    "    .to_excel(\"output_schedule.xlsx\")\n",
    ")"
   ]
  },
  {
   "cell_type": "code",
   "execution_count": null,
   "id": "02e89592-2411-4ebb-a41d-c7bde1b63990",
   "metadata": {},
   "outputs": [],
   "source": []
  }
 ],
 "metadata": {
  "kernelspec": {
   "display_name": "Python 3 (ipykernel)",
   "language": "python",
   "name": "python3"
  },
  "language_info": {
   "codemirror_mode": {
    "name": "ipython",
    "version": 3
   },
   "file_extension": ".py",
   "mimetype": "text/x-python",
   "name": "python",
   "nbconvert_exporter": "python",
   "pygments_lexer": "ipython3",
   "version": "3.13.2"
  }
 },
 "nbformat": 4,
 "nbformat_minor": 5
}
