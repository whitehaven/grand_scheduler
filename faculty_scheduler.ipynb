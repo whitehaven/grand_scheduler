{
 "cells": [
  {
   "cell_type": "markdown",
   "id": "eb7aa3bc-2bcf-481c-afd5-cc2f27010407",
   "metadata": {},
   "source": [
    "# Faculty Scheduler"
   ]
  },
  {
   "cell_type": "markdown",
   "id": "af2005bf-bb50-4664-aac2-89ad91dbf742",
   "metadata": {},
   "source": [
    "An attempt to create a faculty scheduler, which is a much easier version of the resident scheduler.\n",
    "\n",
    "I may try to add a database instead of excel which could be editable but simpler. I could also do CSV, but I hate Excel's complaints and difficulties with saving as CSV each time."
   ]
  },
  {
   "cell_type": "code",
   "execution_count": null,
   "id": "ba17b444-010b-40c5-b588-4500095ce270",
   "metadata": {},
   "outputs": [],
   "source": [
    "import itertools as it\n",
    "\n",
    "import numpy as np\n",
    "import pandas as pd\n",
    "from opre_tools import negated_bounded_span, print_full\n",
    "from ortools.sat.python import cp_model\n",
    "\n",
    "MAX_WKS = 52"
   ]
  },
  {
   "cell_type": "code",
   "execution_count": null,
   "id": "fdcb571b-5b61-4c31-bc8d-467a680eae42",
   "metadata": {},
   "outputs": [],
   "source": []
  },
  {
   "cell_type": "code",
   "execution_count": null,
   "id": "9a26161f-22e8-48f9-980b-cb98ead3a8f3",
   "metadata": {},
   "outputs": [],
   "source": []
  },
  {
   "cell_type": "code",
   "execution_count": null,
   "id": "28b04287-9a61-4116-8350-4e0e7f35a208",
   "metadata": {},
   "outputs": [],
   "source": [
    "model = cp_model.CpModel()\n",
    "\n",
    "d = model.NewBoolVarSeries(\n",
    "    \"bool_at_\",\n",
    "    pd.Index((list(it.product(residents.index, rotations.index, weeks.index)))),\n",
    ").sort_index()  # makes a dummy pd.Series with strings that are labels\n",
    "\n",
    "# every resident's week x must have exactly 1 rotation (has not had vacations incorporated)\n",
    "for n, w in it.product(residents.index, weeks.index):\n",
    "    model.AddExactlyOne(d.loc[pd.IndexSlice[n, :, w]])\n",
    "\n",
    "# # Every rotation can only go one place each week >> JUST \n",
    "# for r, w in it.product(rotations.index, weeks.index):\n",
    "#     model.AddAtMostOne(d.loc[pd.IndexSlice[:, r, w]])\n",
    "\n",
    "# apply max capacity to each rotation for each rotation:week index\n",
    "for r, w in it.product(rotations.index, weeks.index):\n",
    "    model.Add(sum(d.loc[pd.IndexSlice[:, r, w]]) <= rotations.resident_capacity[r]*4)\n",
    "\n",
    "# for each rotation, set max weeks to use\n",
    "for rot_name, rot_tail in rotations.iterrows():\n",
    "    for res in residents.index:\n",
    "        if rot_tail[\"max_wks\"] <= MAX_WKS:  # may be\n",
    "            model.Add(\n",
    "                sum(d.loc[pd.IndexSlice[res, rot_name, :]]) <= rot_tail[\"max_wks\"]\n",
    "            )\n",
    "\n",
    "# for any rotations which require contiguous weeks\n",
    "rotations_with_contig_reqs = rotations[rotations.min_contig_wks > 1]\n",
    "for contig_rot, contig_rot_tail in rotations_with_contig_reqs.iterrows():\n",
    "    for res in residents.index:\n",
    "        hard_min = contig_rot_tail.min_contig_wks\n",
    "        works = d.loc[pd.IndexSlice[res,contig_rot,:]]\n",
    "        for length in range(1,hard_min):\n",
    "            for start in range(len(works) - length + 1):\n",
    "                model.AddBoolOr(negated_bounded_span(works,start,length))\n",
    "\n",
    "print(model.ModelStats())"
   ]
  },
  {
   "cell_type": "code",
   "execution_count": null,
   "id": "f9f3252a-61a7-4064-80a7-8d2ad9bb4193",
   "metadata": {},
   "outputs": [],
   "source": [
    "solver = cp_model.CpSolver()\n",
    "solver.parameters.num_search_workers = 4\n",
    "solver.parameters.log_search_progress = True\n",
    "solver.log_callback = print\n",
    "status = solver.Solve(model)\n",
    "if status == cp_model.OPTIMAL:\n",
    "    print(\"optimal\")\n",
    "    # # The status tells us if we were able to compute a solution.\n",
    "    # for n, w in it.product(residents, weeks):\n",
    "    #     print(\n",
    "    #         \"{} {}\\n{}\".format(\n",
    "    #             n,\n",
    "    #             w,\n",
    "    #             solver.Values(d.loc[pd.IndexSlice[n, :, w]])[\n",
    "    #                 solver.Values(d.loc[pd.IndexSlice[n, :, w]]) != 0\n",
    "    #             ],\n",
    "    #         )\n",
    "    #     )\n",
    "    print(\"=====Stats:======\")\n",
    "    print(solver.SolutionInfo())\n",
    "    print(solver.ResponseStats())\n",
    "elif status == cp_model.FEASIBLE:\n",
    "    print(\"feasible\")\n",
    "    # # The status tells us if we were able to compute a solution.\n",
    "    # for n, w in it.product(residents, weeks):\n",
    "    #     print(\n",
    "    #         \"{} {}\\n{}\".format(\n",
    "    #             n,\n",
    "    #             w,\n",
    "    #             solver.Values(d.loc[pd.IndexSlice[n, :, w]])[\n",
    "    #                 solver.Values(d.loc[pd.IndexSlice[n, :, w]]) != 0\n",
    "    #             ],\n",
    "    #         )\n",
    "    #     )\n",
    "    print(\"=====Stats:======\")\n",
    "    print(solver.SolutionInfo())\n",
    "    print(solver.ResponseStats())\n",
    "else:\n",
    "    print(\"no solution\")"
   ]
  },
  {
   "cell_type": "code",
   "execution_count": null,
   "id": "4a5fb530-e05e-493d-bb49-72bb1adaebc8",
   "metadata": {},
   "outputs": [],
   "source": [
    "print_full(solver.Values(d)[solver.Values(d) == 1].sort_index(level=(0, 2)).unstack())"
   ]
  },
  {
   "cell_type": "code",
   "execution_count": null,
   "id": "175aa872-3185-4bfd-8b7d-1aee9f84ae7d",
   "metadata": {},
   "outputs": [],
   "source": [
    "print(\n",
    "    solver.Values(d)[solver.Values(d) == 1]\n",
    "    .sort_index(level=(0, 2))\n",
    "    .unstack()\n",
    "    .reset_index()\n",
    "    .melt(id_vars=[\"level_0\", \"level_1\"])\n",
    "    .query(\"value == 1\")\n",
    "    .set_index([\"level_0\", \"variable\"])\n",
    "    .sort_index()[\"level_1\"]\n",
    "    .unstack()\n",
    ")"
   ]
  },
  {
   "cell_type": "code",
   "execution_count": null,
   "id": "0120ef75-d2d1-4345-83f5-415a717f99ea",
   "metadata": {},
   "outputs": [],
   "source": [
    "(\n",
    "    solver.Values(d)[solver.Values(d) == 1]\n",
    "    .sort_index(level=(0, 2))\n",
    "    .unstack()\n",
    "    .reset_index()\n",
    "    .melt(id_vars=[\"level_0\", \"level_1\"])\n",
    "    .query(\"value == 1\")\n",
    "    .set_index([\"level_0\", \"variable\"])\n",
    "    .sort_index()[\"level_1\"]\n",
    "    .unstack()\n",
    "    .to_excel(\"output_schedule.xlsx\")\n",
    ")"
   ]
  }
 ],
 "metadata": {
  "kernelspec": {
   "display_name": "Python 3 (ipykernel)",
   "language": "python",
   "name": "python3"
  },
  "language_info": {
   "codemirror_mode": {
    "name": "ipython",
    "version": 3
   },
   "file_extension": ".py",
   "mimetype": "text/x-python",
   "name": "python",
   "nbconvert_exporter": "python",
   "pygments_lexer": "ipython3",
   "version": "3.13.2"
  }
 },
 "nbformat": 4,
 "nbformat_minor": 5
}
