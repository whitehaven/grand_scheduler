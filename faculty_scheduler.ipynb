{
 "cells": [
  {
   "cell_type": "markdown",
   "id": "eb7aa3bc-2bcf-481c-afd5-cc2f27010407",
   "metadata": {},
   "source": [
    "# Faculty Scheduler"
   ]
  },
  {
   "cell_type": "markdown",
   "id": "af2005bf-bb50-4664-aac2-89ad91dbf742",
   "metadata": {},
   "source": [
    "An attempt to create a faculty scheduler, which is a much easier version of the resident scheduler.\n",
    "\n",
    "I may try to add a database instead of excel which could be editable but simpler. I could also do CSV, but I hate Excel's complaints and difficulties with saving as CSV each time."
   ]
  },
  {
   "cell_type": "markdown",
   "id": "d04cf8e5-2bca-4b80-9aaa-ef64ebdf1f23",
   "metadata": {
    "jp-MarkdownHeadingCollapsed": true
   },
   "source": [
    "## variables\n",
    "\n",
    "$W_{ftd} \\subset \\forall \\ faculty \\ \\times \\ \\forall \\ teams \\ \\times \\ \\forall \\ days $\n",
    "\n",
    "$\\forall \\ faculty \\ \\exists\\ \\frac{s\\ shifts}{yr} := F_{FTE}*s_{FTE}$\n",
    "\n",
    "$\\forall \\ faculty \\ \\exists\\ \\frac{h\\ holidays}{yr}\\ :=\\ 1$\n",
    "\n",
    "holidays on certain days; for 11/2025 it is 11/27."
   ]
  },
  {
   "cell_type": "markdown",
   "id": "f66de6ab-5473-491f-a9c1-64097e90e5d1",
   "metadata": {},
   "source": [
    "## constraints\n",
    "\n",
    "Exactly 1 faculty per day on each team: $\\sum {faculty} \\ \\forall \\ days \\forall\\ teams = 1$"
   ]
  },
  {
   "cell_type": "markdown",
   "id": "ffbf3b31-2156-4920-bd1c-2e74c32dd8dc",
   "metadata": {},
   "source": [
    "## objective function\n",
    "Maximize value of faculty preferences."
   ]
  },
  {
   "cell_type": "markdown",
   "id": "ce9183cb-48d1-4316-8049-83c7f08dc7d8",
   "metadata": {},
   "source": [
    "### micro-version - month of november with Thanksgiving"
   ]
  },
  {
   "cell_type": "code",
   "execution_count": null,
   "id": "ba17b444-010b-40c5-b588-4500095ce270",
   "metadata": {},
   "outputs": [],
   "source": [
    "import itertools as it\n",
    "\n",
    "import numpy as np\n",
    "import pandas as pd\n",
    "from opre_tools import negated_bounded_span, print_full\n",
    "from ortools.sat.python import cp_model"
   ]
  },
  {
   "cell_type": "code",
   "execution_count": null,
   "id": "59e6326d-ce06-4903-9ca2-decf7c97f5a1",
   "metadata": {},
   "outputs": [],
   "source": [
    "faculty = pd.read_csv(\"faculty_scheduling_input/faculty.csv\", index_col=\"name\")\n",
    "faculty"
   ]
  },
  {
   "cell_type": "code",
   "execution_count": null,
   "id": "3f0c6e91-8643-46a1-b837-c17d59d83e37",
   "metadata": {},
   "outputs": [],
   "source": [
    "days = pd.read_csv(\"faculty_scheduling_input/days.csv\", index_col=\"date\",parse_dates=[\"date\"])\n",
    "days.tail()"
   ]
  },
  {
   "cell_type": "code",
   "execution_count": null,
   "id": "eaa6aae4-b9f8-49c3-becd-0a890aa76971",
   "metadata": {},
   "outputs": [],
   "source": [
    "days[days.holiday != \"none\"]"
   ]
  },
  {
   "cell_type": "code",
   "execution_count": null,
   "id": "0460465f-9449-4dec-b6a2-fefc30d8775a",
   "metadata": {},
   "outputs": [],
   "source": [
    "teams = pd.read_csv('faculty_scheduling_input/teams.csv', index_col=\"name\")\n",
    "teams"
   ]
  },
  {
   "cell_type": "code",
   "execution_count": null,
   "id": "5644d594-2518-4f16-b702-ff8070c3a865",
   "metadata": {},
   "outputs": [],
   "source": [
    "teams[teams.index.isin([\"Orange\",\"Green\"])]"
   ]
  },
  {
   "cell_type": "markdown",
   "id": "106982d6-8e4d-4c96-bcb7-e648798ab0b6",
   "metadata": {},
   "source": [
    "prototype accessor:\n",
    "```python\n",
    "var_grid.loc[pd.IndexSlice[\"Crist\",'2025-11-01',\"Orange\"]]\n",
    "```"
   ]
  },
  {
   "cell_type": "code",
   "execution_count": null,
   "id": "2b755064-6040-41cd-8cfd-a68c16e4234c",
   "metadata": {},
   "outputs": [],
   "source": [
    "model = cp_model.CpModel()\n",
    "\n",
    "var_grid = model.NewBoolVarSeries(\n",
    "    \"bool_at_\", pd.Index(list(it.product(faculty.index, days.index, teams[teams.index.isin([\"Orange\",\"Green\"])].index))) ## modified to exclude Purple\n",
    ")\n",
    "\n",
    "\n",
    "# for every day, for Orange and Green -> exactly 1 faculty on primary HS\n",
    "# just realized purple is 5 days, then fold together on weekends - this raises complexity much higher. Purple excluded as above.\n",
    "for d, t in it.product(days.index, teams[teams.index.isin([\"Orange\",\"Green\"])].index):\n",
    "    model.AddExactlyOne(var_grid.loc[pd.IndexSlice[:,d,t]])\n",
    "\n",
    "# all work periods must be contiguous\n",
    "for contig_rot, contig_rot_tail in rotations_with_contig_reqs.iterrows():\n",
    "    for res in residents.index:\n",
    "        hard_min = contig_rot_tail.min_contig_wks\n",
    "        works = d.loc[pd.IndexSlice[res,contig_rot,:]]\n",
    "        for length in range(1,hard_min):\n",
    "            for start in range(len(works) - length + 1):\n",
    "                model.AddBoolOr(negated_bounded_span(works,start,length))\n",
    "\n",
    "\n",
    "print(model.ModelStats())"
   ]
  },
  {
   "cell_type": "code",
   "execution_count": null,
   "id": "8af71318-afb8-49df-89ac-f4a5be27db7b",
   "metadata": {},
   "outputs": [],
   "source": []
  },
  {
   "cell_type": "code",
   "execution_count": null,
   "id": "28b04287-9a61-4116-8350-4e0e7f35a208",
   "metadata": {},
   "outputs": [],
   "source": [
    "\n",
    "# every resident's week x must have exactly 1 rotation (has not had vacations incorporated)\n",
    "for n, w in it.product(residents.index, weeks.index):\n",
    "    model.AddExactlyOne(d.loc[pd.IndexSlice[n, :, w]])\n",
    "\n",
    "# # Every rotation can only go one place each week >> JUST \n",
    "# for r, w in it.product(rotations.index, weeks.index):\n",
    "#     model.AddAtMostOne(d.loc[pd.IndexSlice[:, r, w]])\n",
    "\n",
    "# apply max capacity to each rotation for each rotation:week index\n",
    "for r, w in it.product(rotations.index, weeks.index):\n",
    "    model.Add(sum(d.loc[pd.IndexSlice[:, r, w]]) <= rotations.resident_capacity[r]*4)\n",
    "\n",
    "# for each rotation, set max weeks to use\n",
    "for rot_name, rot_tail in rotations.iterrows():\n",
    "    for res in residents.index:\n",
    "        if rot_tail[\"max_wks\"] <= MAX_WKS:  # may be\n",
    "            model.Add(\n",
    "                sum(d.loc[pd.IndexSlice[res, rot_name, :]]) <= rot_tail[\"max_wks\"]\n",
    "            )\n",
    "\n",
    "# for any rotations which require contiguous weeks\n",
    "rotations_with_contig_reqs = rotations[rotations.min_contig_wks > 1]\n",
    "for contig_rot, contig_rot_tail in rotations_with_contig_reqs.iterrows():\n",
    "    for res in residents.index:\n",
    "        hard_min = contig_rot_tail.min_contig_wks\n",
    "        works = d.loc[pd.IndexSlice[res,contig_rot,:]]\n",
    "        for length in range(1,hard_min):\n",
    "            for start in range(len(works) - length + 1):\n",
    "                model.AddBoolOr(negated_bounded_span(works,start,length))\n",
    "\n",
    "print(model.ModelStats())"
   ]
  },
  {
   "cell_type": "code",
   "execution_count": null,
   "id": "f9f3252a-61a7-4064-80a7-8d2ad9bb4193",
   "metadata": {},
   "outputs": [],
   "source": [
    "solver = cp_model.CpSolver()\n",
    "solver.parameters.num_search_workers = 4\n",
    "solver.parameters.log_search_progress = True\n",
    "solver.log_callback = print\n",
    "status = solver.Solve(model)\n",
    "if status == cp_model.OPTIMAL:\n",
    "    print(\"optimal\")\n",
    "    # # The status tells us if we were able to compute a solution.\n",
    "    # for n, w in it.product(residents, weeks):\n",
    "    #     print(\n",
    "    #         \"{} {}\\n{}\".format(\n",
    "    #             n,\n",
    "    #             w,\n",
    "    #             solver.Values(d.loc[pd.IndexSlice[n, :, w]])[\n",
    "    #                 solver.Values(d.loc[pd.IndexSlice[n, :, w]]) != 0\n",
    "    #             ],\n",
    "    #         )\n",
    "    #     )\n",
    "    print(\"=====Stats:======\")\n",
    "    print(solver.SolutionInfo())\n",
    "    print(solver.ResponseStats())\n",
    "elif status == cp_model.FEASIBLE:\n",
    "    print(\"feasible\")\n",
    "    # # The status tells us if we were able to compute a solution.\n",
    "    # for n, w in it.product(residents, weeks):\n",
    "    #     print(\n",
    "    #         \"{} {}\\n{}\".format(\n",
    "    #             n,\n",
    "    #             w,\n",
    "    #             solver.Values(d.loc[pd.IndexSlice[n, :, w]])[\n",
    "    #                 solver.Values(d.loc[pd.IndexSlice[n, :, w]]) != 0\n",
    "    #             ],\n",
    "    #         )\n",
    "    #     )\n",
    "    print(\"=====Stats:======\")\n",
    "    print(solver.SolutionInfo())\n",
    "    print(solver.ResponseStats())\n",
    "else:\n",
    "    print(\"no solution\")"
   ]
  },
  {
   "cell_type": "code",
   "execution_count": null,
   "id": "4a5fb530-e05e-493d-bb49-72bb1adaebc8",
   "metadata": {},
   "outputs": [],
   "source": [
    "print_full(solver.Values(d)[solver.Values(d) == 1].sort_index(level=(0, 2)).unstack())"
   ]
  },
  {
   "cell_type": "code",
   "execution_count": null,
   "id": "175aa872-3185-4bfd-8b7d-1aee9f84ae7d",
   "metadata": {},
   "outputs": [],
   "source": [
    "print(\n",
    "    solver.Values(d)[solver.Values(d) == 1]\n",
    "    .sort_index(level=(0, 2))\n",
    "    .unstack()\n",
    "    .reset_index()\n",
    "    .melt(id_vars=[\"level_0\", \"level_1\"])\n",
    "    .query(\"value == 1\")\n",
    "    .set_index([\"level_0\", \"variable\"])\n",
    "    .sort_index()[\"level_1\"]\n",
    "    .unstack()\n",
    ")"
   ]
  },
  {
   "cell_type": "code",
   "execution_count": null,
   "id": "0120ef75-d2d1-4345-83f5-415a717f99ea",
   "metadata": {},
   "outputs": [],
   "source": [
    "(\n",
    "    solver.Values(d)[solver.Values(d) == 1]\n",
    "    .sort_index(level=(0, 2))\n",
    "    .unstack()\n",
    "    .reset_index()\n",
    "    .melt(id_vars=[\"level_0\", \"level_1\"])\n",
    "    .query(\"value == 1\")\n",
    "    .set_index([\"level_0\", \"variable\"])\n",
    "    .sort_index()[\"level_1\"]\n",
    "    .unstack()\n",
    "    .to_excel(\"output_schedule.xlsx\")\n",
    ")"
   ]
  }
 ],
 "metadata": {
  "kernelspec": {
   "display_name": "Python 3 (ipykernel)",
   "language": "python",
   "name": "python3"
  },
  "language_info": {
   "codemirror_mode": {
    "name": "ipython",
    "version": 3
   },
   "file_extension": ".py",
   "mimetype": "text/x-python",
   "name": "python",
   "nbconvert_exporter": "python",
   "pygments_lexer": "ipython3",
   "version": "3.13.2"
  }
 },
 "nbformat": 4,
 "nbformat_minor": 5
}
