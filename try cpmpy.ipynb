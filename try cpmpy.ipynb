{
 "cells": [
  {
   "cell_type": "markdown",
   "id": "452b2f82-d9d8-4888-b342-5453835bb4e1",
   "metadata": {},
   "source": [
    "Syntax is cleaner but does not appear to offer any additional benefit. Also not able to use strings to identify model variables, so must forever rely on ordered lookup lists to convert back afterward.\n",
    "\n",
    "Problem has not been complexity; it has been implementation and testing of constraints. Will stop this trial here."
   ]
  },
  {
   "cell_type": "code",
   "execution_count": 19,
   "id": "fa3d0d71-f92a-4d21-a6e2-713ec22398d2",
   "metadata": {},
   "outputs": [],
   "source": [
    "import numpy as np\n",
    "import pandas as pd\n",
    "import cpmpy as cp"
   ]
  },
  {
   "cell_type": "code",
   "execution_count": 18,
   "id": "edb1cdea-573d-4b26-80bf-26872e87be7b",
   "metadata": {},
   "outputs": [],
   "source": [
    "residents = pd.read_csv('resident_scheduling_input/residents.csv')\n",
    "rotations = pd.read_csv('resident_scheduling_input/rotations.csv')\n",
    "weeks = pd.read_csv('resident_scheduling_input/weeks.csv')"
   ]
  },
  {
   "cell_type": "code",
   "execution_count": 29,
   "id": "316ac2b4-7ffc-4c0e-bc3e-307b153c02ff",
   "metadata": {},
   "outputs": [],
   "source": [
    "# miniature toy example\n",
    "residents = ['Ken','Jacob','Victor','Chad']\n",
    "rotations = ['Orange','Green','Purple','Clinic','CCNW']\n",
    "weeks = [1,2,3]"
   ]
  },
  {
   "cell_type": "code",
   "execution_count": 43,
   "id": "98adc936-ed22-4754-88f5-e1600bb843f7",
   "metadata": {},
   "outputs": [],
   "source": [
    "isons = cp.boolvar(shape=(len(residents),len(rotations),len(weeks)),name=\"ison\")"
   ]
  },
  {
   "cell_type": "code",
   "execution_count": 44,
   "id": "b8b748d3-efe3-4e06-b915-1ee224b08c7d",
   "metadata": {},
   "outputs": [
    {
     "data": {
      "text/plain": [
       "NDVarArray([ison[0,3,2], ison[1,3,2], ison[2,3,2], ison[3,3,2]],\n",
       "           dtype=object)"
      ]
     },
     "execution_count": 44,
     "metadata": {},
     "output_type": "execute_result"
    }
   ],
   "source": [
    "isons[:,3,2]"
   ]
  },
  {
   "cell_type": "code",
   "execution_count": 49,
   "id": "71754c32-8047-4924-a3ac-86669ac04321",
   "metadata": {},
   "outputs": [],
   "source": [
    "m = cp.Model(\n",
    "    sum(isons[:,r_i,:] for r_i, r in enumerate(rotations)) <= 1, #for all rotations, <=1 resident\n",
    "    sum(isons[n_i,:,w_i] for n_i, w_i in ) #every resident on 1 rotation for each week\n",
    ")"
   ]
  },
  {
   "cell_type": "code",
   "execution_count": 55,
   "id": "0644b38d-a84a-4891-8b50-e76b1e43145c",
   "metadata": {},
   "outputs": [],
   "source": []
  },
  {
   "cell_type": "code",
   "execution_count": 90,
   "id": "d49d5c6f-a3b5-477e-9457-bac58108e227",
   "metadata": {},
   "outputs": [],
   "source": [
    "m = cp.Model()\n",
    "\n",
    "for n_i, n in enumerate(residents): #every resident\n",
    "    for w_i, w in enumerate(weeks): #every week\n",
    "        m+= sum(isons[n_i,:,w_i]) == 1 #one rotation scheduled\n",
    "\n",
    "for r_i, r in enumerate (rotations):\n",
    "    for w_i, w in enumerate(weeks):\n",
    "        m += sum(isons[:,r_i,w_i]) <= 1"
   ]
  },
  {
   "cell_type": "code",
   "execution_count": 91,
   "id": "d73020e6-e88b-43f7-b964-b72aa4a460fd",
   "metadata": {},
   "outputs": [
    {
     "data": {
      "text/plain": [
       "Constraints:\n",
       "    sum([ison[0,0,0], ison[0,1,0], ison[0,2,0], ison[0,3,0], ison[0,4,0]]) == 1\n",
       "    sum([ison[0,0,1], ison[0,1,1], ison[0,2,1], ison[0,3,1], ison[0,4,1]]) == 1\n",
       "    sum([ison[0,0,2], ison[0,1,2], ison[0,2,2], ison[0,3,2], ison[0,4,2]]) == 1\n",
       "    sum([ison[1,0,0], ison[1,1,0], ison[1,2,0], ison[1,3,0], ison[1,4,0]]) == 1\n",
       "    sum([ison[1,0,1], ison[1,1,1], ison[1,2,1], ison[1,3,1], ison[1,4,1]]) == 1\n",
       "    sum([ison[1,0,2], ison[1,1,2], ison[1,2,2], ison[1,3,2], ison[1,4,2]]) == 1\n",
       "    sum([ison[2,0,0], ison[2,1,0], ison[2,2,0], ison[2,3,0], ison[2,4,0]]) == 1\n",
       "    sum([ison[2,0,1], ison[2,1,1], ison[2,2,1], ison[2,3,1], ison[2,4,1]]) == 1\n",
       "    sum([ison[2,0,2], ison[2,1,2], ison[2,2,2], ison[2,3,2], ison[2,4,2]]) == 1\n",
       "    sum([ison[3,0,0], ison[3,1,0], ison[3,2,0], ison[3,3,0], ison[3,4,0]]) == 1\n",
       "    sum([ison[3,0,1], ison[3,1,1], ison[3,2,1], ison[3,3,1], ison[3,4,1]]) == 1\n",
       "    sum([ison[3,0,2], ison[3,1,2], ison[3,2,2], ison[3,3,2], ison[3,4,2]]) == 1\n",
       "    sum([ison[0,0,0], ison[1,0,0], ison[2,0,0], ison[3,0,0]]) <= 1\n",
       "    sum([ison[0,0,1], ison[1,0,1], ison[2,0,1], ison[3,0,1]]) <= 1\n",
       "    sum([ison[0,0,2], ison[1,0,2], ison[2,0,2], ison[3,0,2]]) <= 1\n",
       "    sum([ison[0,1,0], ison[1,1,0], ison[2,1,0], ison[3,1,0]]) <= 1\n",
       "    sum([ison[0,1,1], ison[1,1,1], ison[2,1,1], ison[3,1,1]]) <= 1\n",
       "    sum([ison[0,1,2], ison[1,1,2], ison[2,1,2], ison[3,1,2]]) <= 1\n",
       "    sum([ison[0,2,0], ison[1,2,0], ison[2,2,0], ison[3,2,0]]) <= 1\n",
       "    sum([ison[0,2,1], ison[1,2,1], ison[2,2,1], ison[3,2,1]]) <= 1\n",
       "    sum([ison[0,2,2], ison[1,2,2], ison[2,2,2], ison[3,2,2]]) <= 1\n",
       "    sum([ison[0,3,0], ison[1,3,0], ison[2,3,0], ison[3,3,0]]) <= 1\n",
       "    sum([ison[0,3,1], ison[1,3,1], ison[2,3,1], ison[3,3,1]]) <= 1\n",
       "    sum([ison[0,3,2], ison[1,3,2], ison[2,3,2], ison[3,3,2]]) <= 1\n",
       "    sum([ison[0,4,0], ison[1,4,0], ison[2,4,0], ison[3,4,0]]) <= 1\n",
       "    sum([ison[0,4,1], ison[1,4,1], ison[2,4,1], ison[3,4,1]]) <= 1\n",
       "    sum([ison[0,4,2], ison[1,4,2], ison[2,4,2], ison[3,4,2]]) <= 1\n",
       "Objective: None"
      ]
     },
     "execution_count": 91,
     "metadata": {},
     "output_type": "execute_result"
    }
   ],
   "source": [
    "m"
   ]
  },
  {
   "cell_type": "code",
   "execution_count": 92,
   "id": "19e8a422-26fc-4cc8-8789-bcbeb6d48159",
   "metadata": {},
   "outputs": [
    {
     "data": {
      "text/plain": [
       "True"
      ]
     },
     "execution_count": 92,
     "metadata": {},
     "output_type": "execute_result"
    }
   ],
   "source": [
    "m.solve()"
   ]
  },
  {
   "cell_type": "code",
   "execution_count": 93,
   "id": "211bde8c-9932-45f7-a884-1940931a2bd1",
   "metadata": {},
   "outputs": [
    {
     "data": {
      "text/plain": [
       "array([[[False, False, False],\n",
       "        [False, False,  True],\n",
       "        [False,  True, False],\n",
       "        [ True, False, False],\n",
       "        [False, False, False]],\n",
       "\n",
       "       [[False, False,  True],\n",
       "        [False,  True, False],\n",
       "        [ True, False, False],\n",
       "        [False, False, False],\n",
       "        [False, False, False]],\n",
       "\n",
       "       [[False,  True, False],\n",
       "        [ True, False, False],\n",
       "        [False, False, False],\n",
       "        [False, False,  True],\n",
       "        [False, False, False]],\n",
       "\n",
       "       [[ True, False, False],\n",
       "        [False, False, False],\n",
       "        [False, False, False],\n",
       "        [False, False, False],\n",
       "        [False,  True,  True]]])"
      ]
     },
     "execution_count": 93,
     "metadata": {},
     "output_type": "execute_result"
    }
   ],
   "source": [
    "isons[:,:,:].value()"
   ]
  },
  {
   "cell_type": "code",
   "execution_count": 42,
   "id": "0ea96736-acbf-4517-bb43-7307131350f0",
   "metadata": {},
   "outputs": [
    {
     "data": {
      "text/plain": [
       "NDVarArray([[[ison[0,0,0], ison[0,0,1], ison[0,0,2]],\n",
       "             [ison[0,1,0], ison[0,1,1], ison[0,1,2]],\n",
       "             [ison[0,2,0], ison[0,2,1], ison[0,2,2]],\n",
       "             [ison[0,3,0], ison[0,3,1], ison[0,3,2]],\n",
       "             [ison[0,4,0], ison[0,4,1], ison[0,4,2]]],\n",
       "\n",
       "            [[ison[1,0,0], ison[1,0,1], ison[1,0,2]],\n",
       "             [ison[1,1,0], ison[1,1,1], ison[1,1,2]],\n",
       "             [ison[1,2,0], ison[1,2,1], ison[1,2,2]],\n",
       "             [ison[1,3,0], ison[1,3,1], ison[1,3,2]],\n",
       "             [ison[1,4,0], ison[1,4,1], ison[1,4,2]]],\n",
       "\n",
       "            [[ison[2,0,0], ison[2,0,1], ison[2,0,2]],\n",
       "             [ison[2,1,0], ison[2,1,1], ison[2,1,2]],\n",
       "             [ison[2,2,0], ison[2,2,1], ison[2,2,2]],\n",
       "             [ison[2,3,0], ison[2,3,1], ison[2,3,2]],\n",
       "             [ison[2,4,0], ison[2,4,1], ison[2,4,2]]],\n",
       "\n",
       "            [[ison[3,0,0], ison[3,0,1], ison[3,0,2]],\n",
       "             [ison[3,1,0], ison[3,1,1], ison[3,1,2]],\n",
       "             [ison[3,2,0], ison[3,2,1], ison[3,2,2]],\n",
       "             [ison[3,3,0], ison[3,3,1], ison[3,3,2]],\n",
       "             [ison[3,4,0], ison[3,4,1], ison[3,4,2]]]], dtype=object)"
      ]
     },
     "execution_count": 42,
     "metadata": {},
     "output_type": "execute_result"
    }
   ],
   "source": [
    "isons"
   ]
  },
  {
   "cell_type": "code",
   "execution_count": null,
   "id": "02045159-0020-42c5-ac76-a8da51a69f0f",
   "metadata": {},
   "outputs": [],
   "source": []
  },
  {
   "cell_type": "code",
   "execution_count": null,
   "id": "8d2936b3-9d4d-4a46-ac02-8cc72b2ec368",
   "metadata": {},
   "outputs": [],
   "source": []
  },
  {
   "cell_type": "code",
   "execution_count": 38,
   "id": "bf4856ce-d440-4c9d-a4c2-453e5cea56ef",
   "metadata": {},
   "outputs": [
    {
     "data": {
      "text/plain": [
       "NDVarArray([[[ison[0,0,0], ison[0,0,1], ison[0,0,2]],\n",
       "             [ison[0,1,0], ison[0,1,1], ison[0,1,2]],\n",
       "             [ison[0,2,0], ison[0,2,1], ison[0,2,2]],\n",
       "             [ison[0,3,0], ison[0,3,1], ison[0,3,2]],\n",
       "             [ison[0,4,0], ison[0,4,1], ison[0,4,2]]],\n",
       "\n",
       "            [[ison[1,0,0], ison[1,0,1], ison[1,0,2]],\n",
       "             [ison[1,1,0], ison[1,1,1], ison[1,1,2]],\n",
       "             [ison[1,2,0], ison[1,2,1], ison[1,2,2]],\n",
       "             [ison[1,3,0], ison[1,3,1], ison[1,3,2]],\n",
       "             [ison[1,4,0], ison[1,4,1], ison[1,4,2]]],\n",
       "\n",
       "            [[ison[2,0,0], ison[2,0,1], ison[2,0,2]],\n",
       "             [ison[2,1,0], ison[2,1,1], ison[2,1,2]],\n",
       "             [ison[2,2,0], ison[2,2,1], ison[2,2,2]],\n",
       "             [ison[2,3,0], ison[2,3,1], ison[2,3,2]],\n",
       "             [ison[2,4,0], ison[2,4,1], ison[2,4,2]]],\n",
       "\n",
       "            [[ison[3,0,0], ison[3,0,1], ison[3,0,2]],\n",
       "             [ison[3,1,0], ison[3,1,1], ison[3,1,2]],\n",
       "             [ison[3,2,0], ison[3,2,1], ison[3,2,2]],\n",
       "             [ison[3,3,0], ison[3,3,1], ison[3,3,2]],\n",
       "             [ison[3,4,0], ison[3,4,1], ison[3,4,2]]]], dtype=object)"
      ]
     },
     "execution_count": 38,
     "metadata": {},
     "output_type": "execute_result"
    }
   ],
   "source": [
    "# only one resident per week per rotations\n",
    "isons[:,:,:]"
   ]
  },
  {
   "cell_type": "code",
   "execution_count": null,
   "id": "0caa5f66-ca4a-4a4c-8e56-f0fdc00d234d",
   "metadata": {},
   "outputs": [],
   "source": []
  },
  {
   "cell_type": "code",
   "execution_count": null,
   "id": "6ae8bcf8-eff0-4ef8-804f-9a3252fdf2db",
   "metadata": {},
   "outputs": [],
   "source": []
  },
  {
   "cell_type": "code",
   "execution_count": 2,
   "id": "01f46f4f-d77f-4eda-a316-314e438512ba",
   "metadata": {},
   "outputs": [],
   "source": [
    "# Decision variables\n",
    "(a,b,c) = cp.boolvar(shape=3)\n",
    "\n",
    "m = cp.Model(\n",
    "   a | b,\n",
    "   ~(a & c),\n",
    "   (b | c) & ~a\n",
    ")"
   ]
  },
  {
   "cell_type": "code",
   "execution_count": 13,
   "id": "33267e0a-644c-466c-b617-b125737160b5",
   "metadata": {},
   "outputs": [],
   "source": [
    "s = m.solveAll()"
   ]
  },
  {
   "cell_type": "code",
   "execution_count": 14,
   "id": "d044c37f-5159-4127-96b8-577deeb80bfc",
   "metadata": {},
   "outputs": [
    {
     "data": {
      "text/plain": [
       "2"
      ]
     },
     "execution_count": 14,
     "metadata": {},
     "output_type": "execute_result"
    }
   ],
   "source": [
    "s"
   ]
  },
  {
   "cell_type": "code",
   "execution_count": 10,
   "id": "6c79099d-612a-4f90-a138-f162430da2be",
   "metadata": {},
   "outputs": [
    {
     "data": {
      "text/plain": [
       "bool"
      ]
     },
     "execution_count": 10,
     "metadata": {},
     "output_type": "execute_result"
    }
   ],
   "source": [
    "type(s)"
   ]
  },
  {
   "cell_type": "code",
   "execution_count": 11,
   "id": "21ec5841-10ec-4ab1-9c53-bf31baf0c385",
   "metadata": {},
   "outputs": [
    {
     "data": {
      "text/plain": [
       "BV0"
      ]
     },
     "execution_count": 11,
     "metadata": {},
     "output_type": "execute_result"
    }
   ],
   "source": []
  },
  {
   "cell_type": "code",
   "execution_count": null,
   "id": "517cbadb-fc6c-4925-82ad-d0d06798f817",
   "metadata": {},
   "outputs": [],
   "source": []
  }
 ],
 "metadata": {
  "kernelspec": {
   "display_name": "Python 3 (ipykernel)",
   "language": "python",
   "name": "python3"
  },
  "language_info": {
   "codemirror_mode": {
    "name": "ipython",
    "version": 3
   },
   "file_extension": ".py",
   "mimetype": "text/x-python",
   "name": "python",
   "nbconvert_exporter": "python",
   "pygments_lexer": "ipython3",
   "version": "3.13.2"
  }
 },
 "nbformat": 4,
 "nbformat_minor": 5
}
