{
 "cells": [
  {
   "cell_type": "markdown",
   "id": "eb7aa3bc-2bcf-481c-afd5-cc2f27010407",
   "metadata": {},
   "source": [
    "# Faculty Scheduler"
   ]
  },
  {
   "cell_type": "markdown",
   "id": "af2005bf-bb50-4664-aac2-89ad91dbf742",
   "metadata": {},
   "source": [
    "An attempt to create a faculty scheduler, which is a much easier version of the resident scheduler.\n",
    "\n",
    "I may try to add a database instead of excel which could be editable but simpler. I could also do CSV, but I hate Excel's complaints and difficulties with saving as CSV each time."
   ]
  },
  {
   "cell_type": "markdown",
   "id": "d04cf8e5-2bca-4b80-9aaa-ef64ebdf1f23",
   "metadata": {
    "jp-MarkdownHeadingCollapsed": true
   },
   "source": [
    "## variables\n",
    "\n",
    "$W_{ftd} \\subset \\forall \\ faculty \\ \\times \\ \\forall \\ teams \\ \\times \\ \\forall \\ days $\n",
    "\n",
    "$\\forall \\ faculty \\ \\exists\\ \\frac{s\\ shifts}{yr} := F_{FTE}*s_{FTE}$\n",
    "\n",
    "$\\forall \\ faculty \\ \\exists\\ \\frac{h\\ holidays}{yr}\\ :=\\ 1$\n",
    "\n",
    "holidays on certain days; for 11/2025 it is 11/27."
   ]
  },
  {
   "cell_type": "markdown",
   "id": "f66de6ab-5473-491f-a9c1-64097e90e5d1",
   "metadata": {},
   "source": [
    "## constraints\n",
    "\n",
    "Exactly 1 faculty per day on each team: $\\sum {faculty} \\ \\forall \\ days \\forall\\ teams = 1$"
   ]
  },
  {
   "cell_type": "markdown",
   "id": "ffbf3b31-2156-4920-bd1c-2e74c32dd8dc",
   "metadata": {},
   "source": [
    "## objective function\n",
    "Maximize value of faculty preferences."
   ]
  },
  {
   "cell_type": "markdown",
   "id": "ce9183cb-48d1-4316-8049-83c7f08dc7d8",
   "metadata": {},
   "source": [
    "### micro-version - month of november with Thanksgiving"
   ]
  },
  {
   "cell_type": "code",
   "execution_count": 1,
   "id": "ba17b444-010b-40c5-b588-4500095ce270",
   "metadata": {
    "execution": {
     "iopub.execute_input": "2025-03-15T00:50:46.368671Z",
     "iopub.status.busy": "2025-03-15T00:50:46.368438Z",
     "iopub.status.idle": "2025-03-15T00:50:47.134847Z",
     "shell.execute_reply": "2025-03-15T00:50:47.134343Z",
     "shell.execute_reply.started": "2025-03-15T00:50:46.368650Z"
    }
   },
   "outputs": [
    {
     "name": "stderr",
     "output_type": "stream",
     "text": [
      "/home/accrist/anaconda3/envs/or-tools/lib/python3.13/site-packages/numpy/_core/getlimits.py:551: UserWarning: Signature b'\\x00\\xd0\\xcc\\xcc\\xcc\\xcc\\xcc\\xcc\\xfb\\xbf\\x00\\x00\\x00\\x00\\x00\\x00' for <class 'numpy.longdouble'> does not match any known type: falling back to type probe function.\n",
      "This warnings indicates broken support for the dtype!\n",
      "  machar = _get_machar(dtype)\n"
     ]
    }
   ],
   "source": [
    "import itertools as it\n",
    "\n",
    "import numpy as np\n",
    "import pandas as pd\n",
    "from opre_tools import negated_bounded_span, print_full\n",
    "from ortools.sat.python import cp_model\n",
    "\n",
    "from datetime import date"
   ]
  },
  {
   "cell_type": "code",
   "execution_count": 2,
   "id": "59e6326d-ce06-4903-9ca2-decf7c97f5a1",
   "metadata": {
    "execution": {
     "iopub.execute_input": "2025-03-15T00:50:58.775704Z",
     "iopub.status.busy": "2025-03-15T00:50:58.775399Z",
     "iopub.status.idle": "2025-03-15T00:50:58.799372Z",
     "shell.execute_reply": "2025-03-15T00:50:58.798504Z",
     "shell.execute_reply.started": "2025-03-15T00:50:58.775680Z"
    }
   },
   "outputs": [
    {
     "data": {
      "text/html": [
       "<div>\n",
       "<style scoped>\n",
       "    .dataframe tbody tr th:only-of-type {\n",
       "        vertical-align: middle;\n",
       "    }\n",
       "\n",
       "    .dataframe tbody tr th {\n",
       "        vertical-align: top;\n",
       "    }\n",
       "\n",
       "    .dataframe thead th {\n",
       "        text-align: right;\n",
       "    }\n",
       "</style>\n",
       "<table border=\"1\" class=\"dataframe\">\n",
       "  <thead>\n",
       "    <tr style=\"text-align: right;\">\n",
       "      <th></th>\n",
       "      <th>inpatient shifts per year</th>\n",
       "      <th>ideal Purple</th>\n",
       "      <th>ideal HS</th>\n",
       "      <th>clinic_only</th>\n",
       "      <th>guess_FTE</th>\n",
       "    </tr>\n",
       "    <tr>\n",
       "      <th>name</th>\n",
       "      <th></th>\n",
       "      <th></th>\n",
       "      <th></th>\n",
       "      <th></th>\n",
       "      <th></th>\n",
       "    </tr>\n",
       "  </thead>\n",
       "  <tbody>\n",
       "    <tr>\n",
       "      <th>Allen</th>\n",
       "      <td>0</td>\n",
       "      <td>0.000000</td>\n",
       "      <td>0.000000</td>\n",
       "      <td>clinic only</td>\n",
       "      <td>1.00</td>\n",
       "    </tr>\n",
       "    <tr>\n",
       "      <th>Benson</th>\n",
       "      <td>21</td>\n",
       "      <td>7.000000</td>\n",
       "      <td>14.000000</td>\n",
       "      <td>works inpatient</td>\n",
       "      <td>1.00</td>\n",
       "    </tr>\n",
       "    <tr>\n",
       "      <th>Eddy</th>\n",
       "      <td>14</td>\n",
       "      <td>4.666667</td>\n",
       "      <td>9.333333</td>\n",
       "      <td>works inpatient</td>\n",
       "      <td>0.50</td>\n",
       "    </tr>\n",
       "    <tr>\n",
       "      <th>Kerkering</th>\n",
       "      <td>0</td>\n",
       "      <td>0.000000</td>\n",
       "      <td>0.000000</td>\n",
       "      <td>clinic only</td>\n",
       "      <td>1.00</td>\n",
       "    </tr>\n",
       "    <tr>\n",
       "      <th>Lungren</th>\n",
       "      <td>21</td>\n",
       "      <td>7.000000</td>\n",
       "      <td>14.000000</td>\n",
       "      <td>works inpatient</td>\n",
       "      <td>1.00</td>\n",
       "    </tr>\n",
       "    <tr>\n",
       "      <th>May</th>\n",
       "      <td>21</td>\n",
       "      <td>7.000000</td>\n",
       "      <td>14.000000</td>\n",
       "      <td>works inpatient</td>\n",
       "      <td>1.00</td>\n",
       "    </tr>\n",
       "    <tr>\n",
       "      <th>McDermott</th>\n",
       "      <td>6</td>\n",
       "      <td>2.000000</td>\n",
       "      <td>4.000000</td>\n",
       "      <td>works inpatient</td>\n",
       "      <td>0.25</td>\n",
       "    </tr>\n",
       "    <tr>\n",
       "      <th>Potyk</th>\n",
       "      <td>6</td>\n",
       "      <td>2.000000</td>\n",
       "      <td>4.000000</td>\n",
       "      <td>works inpatient</td>\n",
       "      <td>0.25</td>\n",
       "    </tr>\n",
       "    <tr>\n",
       "      <th>Stewart</th>\n",
       "      <td>21</td>\n",
       "      <td>7.000000</td>\n",
       "      <td>14.000000</td>\n",
       "      <td>works inpatient</td>\n",
       "      <td>1.00</td>\n",
       "    </tr>\n",
       "    <tr>\n",
       "      <th>Swanson</th>\n",
       "      <td>15</td>\n",
       "      <td>5.000000</td>\n",
       "      <td>10.000000</td>\n",
       "      <td>works inpatient</td>\n",
       "      <td>0.50</td>\n",
       "    </tr>\n",
       "    <tr>\n",
       "      <th>Zhang</th>\n",
       "      <td>21</td>\n",
       "      <td>7.000000</td>\n",
       "      <td>14.000000</td>\n",
       "      <td>works inpatient</td>\n",
       "      <td>1.00</td>\n",
       "    </tr>\n",
       "    <tr>\n",
       "      <th>Castagna</th>\n",
       "      <td>21</td>\n",
       "      <td>7.000000</td>\n",
       "      <td>14.000000</td>\n",
       "      <td>works inpatient</td>\n",
       "      <td>1.00</td>\n",
       "    </tr>\n",
       "    <tr>\n",
       "      <th>Crist</th>\n",
       "      <td>21</td>\n",
       "      <td>7.000000</td>\n",
       "      <td>14.000000</td>\n",
       "      <td>works inpatient</td>\n",
       "      <td>1.00</td>\n",
       "    </tr>\n",
       "  </tbody>\n",
       "</table>\n",
       "</div>"
      ],
      "text/plain": [
       "           inpatient shifts per year  ideal Purple   ideal HS  \\\n",
       "name                                                            \n",
       "Allen                              0      0.000000   0.000000   \n",
       "Benson                            21      7.000000  14.000000   \n",
       "Eddy                              14      4.666667   9.333333   \n",
       "Kerkering                          0      0.000000   0.000000   \n",
       "Lungren                           21      7.000000  14.000000   \n",
       "May                               21      7.000000  14.000000   \n",
       "McDermott                          6      2.000000   4.000000   \n",
       "Potyk                              6      2.000000   4.000000   \n",
       "Stewart                           21      7.000000  14.000000   \n",
       "Swanson                           15      5.000000  10.000000   \n",
       "Zhang                             21      7.000000  14.000000   \n",
       "Castagna                          21      7.000000  14.000000   \n",
       "Crist                             21      7.000000  14.000000   \n",
       "\n",
       "               clinic_only  guess_FTE  \n",
       "name                                   \n",
       "Allen          clinic only       1.00  \n",
       "Benson     works inpatient       1.00  \n",
       "Eddy       works inpatient       0.50  \n",
       "Kerkering      clinic only       1.00  \n",
       "Lungren    works inpatient       1.00  \n",
       "May        works inpatient       1.00  \n",
       "McDermott  works inpatient       0.25  \n",
       "Potyk      works inpatient       0.25  \n",
       "Stewart    works inpatient       1.00  \n",
       "Swanson    works inpatient       0.50  \n",
       "Zhang      works inpatient       1.00  \n",
       "Castagna   works inpatient       1.00  \n",
       "Crist      works inpatient       1.00  "
      ]
     },
     "execution_count": 2,
     "metadata": {},
     "output_type": "execute_result"
    }
   ],
   "source": [
    "faculty = pd.read_csv(\"faculty_scheduling_input/faculty.csv\", index_col=\"name\")\n",
    "days = pd.read_csv(\"faculty_scheduling_input/days.csv\", index_col=\"date\",parse_dates=[\"date\"])\n",
    "teams = pd.read_csv('faculty_scheduling_input/teams.csv', index_col=\"name\")"
   ]
  },
  {
   "cell_type": "markdown",
   "id": "106982d6-8e4d-4c96-bcb7-e648798ab0b6",
   "metadata": {},
   "source": [
    "prototype accessor:\n",
    "```python\n",
    "var_grid.loc[pd.IndexSlice[\"Crist\",'2025-11-01',\"Orange\"]]\n",
    "```"
   ]
  },
  {
   "cell_type": "markdown",
   "id": "6792b33e-40ee-4a92-bf15-0f4c89408b14",
   "metadata": {},
   "source": [
    "let's model a toy with intervals that just has attendings who can work 7 days and 28 days total for Orange and Green"
   ]
  },
  {
   "cell_type": "code",
   "execution_count": 18,
   "id": "90e2725a-1de2-4493-a7ed-f8c1905bf161",
   "metadata": {
    "execution": {
     "iopub.execute_input": "2025-03-15T01:00:49.600402Z",
     "iopub.status.busy": "2025-03-15T01:00:49.600135Z",
     "iopub.status.idle": "2025-03-15T01:00:49.612203Z",
     "shell.execute_reply": "2025-03-15T01:00:49.611355Z",
     "shell.execute_reply.started": "2025-03-15T01:00:49.600381Z"
    }
   },
   "outputs": [
    {
     "data": {
      "text/html": [
       "<div>\n",
       "<style scoped>\n",
       "    .dataframe tbody tr th:only-of-type {\n",
       "        vertical-align: middle;\n",
       "    }\n",
       "\n",
       "    .dataframe tbody tr th {\n",
       "        vertical-align: top;\n",
       "    }\n",
       "\n",
       "    .dataframe thead th {\n",
       "        text-align: right;\n",
       "    }\n",
       "</style>\n",
       "<table border=\"1\" class=\"dataframe\">\n",
       "  <thead>\n",
       "    <tr style=\"text-align: right;\">\n",
       "      <th></th>\n",
       "      <th>date</th>\n",
       "      <th>day_idx</th>\n",
       "    </tr>\n",
       "  </thead>\n",
       "  <tbody>\n",
       "    <tr>\n",
       "      <th>0</th>\n",
       "      <td>2025-11-01</td>\n",
       "      <td>1</td>\n",
       "    </tr>\n",
       "    <tr>\n",
       "      <th>1</th>\n",
       "      <td>2025-11-02</td>\n",
       "      <td>2</td>\n",
       "    </tr>\n",
       "    <tr>\n",
       "      <th>2</th>\n",
       "      <td>2025-11-03</td>\n",
       "      <td>3</td>\n",
       "    </tr>\n",
       "    <tr>\n",
       "      <th>3</th>\n",
       "      <td>2025-11-04</td>\n",
       "      <td>4</td>\n",
       "    </tr>\n",
       "    <tr>\n",
       "      <th>4</th>\n",
       "      <td>2025-11-05</td>\n",
       "      <td>5</td>\n",
       "    </tr>\n",
       "  </tbody>\n",
       "</table>\n",
       "</div>"
      ],
      "text/plain": [
       "        date  day_idx\n",
       "0 2025-11-01        1\n",
       "1 2025-11-02        2\n",
       "2 2025-11-03        3\n",
       "3 2025-11-04        4\n",
       "4 2025-11-05        5"
      ]
     },
     "execution_count": 18,
     "metadata": {},
     "output_type": "execute_result"
    }
   ],
   "source": [
    "days_toy = pd.DataFrame({\"date\":pd.date_range('2025-11-01',freq=\"1d\",periods=28), \"day_idx\":range(1,28+1)})\n",
    "days_toy.head()"
   ]
  },
  {
   "cell_type": "code",
   "execution_count": 14,
   "id": "0c3c4a71-6017-4805-9e8d-45e001b42815",
   "metadata": {
    "execution": {
     "iopub.execute_input": "2025-03-15T00:59:13.593949Z",
     "iopub.status.busy": "2025-03-15T00:59:13.593437Z",
     "iopub.status.idle": "2025-03-15T00:59:13.596906Z",
     "shell.execute_reply": "2025-03-15T00:59:13.596237Z",
     "shell.execute_reply.started": "2025-03-15T00:59:13.593925Z"
    }
   },
   "outputs": [],
   "source": [
    "faculty_toy = ['Crist','May','Castagna','Benson','Potyk']"
   ]
  },
  {
   "cell_type": "code",
   "execution_count": 15,
   "id": "b9a385be-cbb1-4988-98d4-f28fadeba401",
   "metadata": {
    "execution": {
     "iopub.execute_input": "2025-03-15T00:59:22.751597Z",
     "iopub.status.busy": "2025-03-15T00:59:22.751252Z",
     "iopub.status.idle": "2025-03-15T00:59:22.756207Z",
     "shell.execute_reply": "2025-03-15T00:59:22.755387Z",
     "shell.execute_reply.started": "2025-03-15T00:59:22.751575Z"
    }
   },
   "outputs": [],
   "source": [
    "teams = [\"Orange\",\"Green\"]"
   ]
  },
  {
   "cell_type": "code",
   "execution_count": 57,
   "id": "3c246aaa-0f2c-4ab9-8933-94841d52e00e",
   "metadata": {
    "execution": {
     "iopub.execute_input": "2025-03-15T01:36:18.790181Z",
     "iopub.status.busy": "2025-03-15T01:36:18.789601Z",
     "iopub.status.idle": "2025-03-15T01:36:18.901815Z",
     "shell.execute_reply": "2025-03-15T01:36:18.900629Z",
     "shell.execute_reply.started": "2025-03-15T01:36:18.790145Z"
    }
   },
   "outputs": [
    {
     "name": "stdout",
     "output_type": "stream",
     "text": [
      "satisfaction model 'Faculty Scheduler': (model_fingerprint: 0x595c1d93deb1bdfc)\n",
      "#Variables: 911\n",
      "  - 818 Booleans in [0,1]\n",
      "  - 6 in [0,4]\n",
      "  - 29 in [0,27]\n",
      "  - 29 in [7,14]\n",
      "  - 29 in [7,28]\n",
      "#kInterval: 29\n",
      "#kLinear1: 3'253 (#enforced: 3'253)\n",
      "#kLinearN: 56 (#terms: 700)\n",
      "#kNoOverlap: 6 (#intervals: 25, #variable_sizes: 25)\n"
     ]
    }
   ],
   "source": [
    "# Parameters\n",
    "attendings = [\"Crist\", \"May\", \"Castagna\", \"Benson\", \"Potyk\"]\n",
    "days = list(range(28))\n",
    "num_attendings = len(attendings)\n",
    "\n",
    "# Decision variables: Interval variables for work periods\n",
    "intervals = []\n",
    "presences = {}\n",
    "for a in range(num_attendings):\n",
    "    num_shifts = model.NewIntVar(0, 4, f\"num_shifts_{a}\")  # Allow multiple work periods\n",
    "    shifts = []\n",
    "    for s in range(4):  # Allow up to 4 work periods per attending\n",
    "        start = model.NewIntVar(0, 27, f\"start_{a}_{s}\")\n",
    "        duration = model.NewIntVar(7, 14, f\"duration_{a}_{s}\")\n",
    "        end = model.NewIntVar(7, 28, f\"end_{a}_{s}\")\n",
    "        interval = model.NewIntervalVar(start, duration, end, f\"interval_{a}_{s}\")\n",
    "        shifts.append(interval)\n",
    "\n",
    "        for d in days:\n",
    "            presences[(a, s, d)] = model.NewBoolVar(f\"presence_{a}_{s}_{d}\")\n",
    "            model.Add(start <= d).OnlyEnforceIf(presences[(a, s, d)])\n",
    "            model.Add(d < end).OnlyEnforceIf(presences[(a, s, d)])\n",
    "            model.Add(start > d).OnlyEnforceIf(presences[(a, s, d)].Not())\n",
    "            model.Add(d >= end).OnlyEnforceIf(presences[(a, s, d)].Not())\n",
    "\n",
    "    intervals.extend(shifts)\n",
    "    model.Add(num_shifts == sum(1 for s in range(4))).OnlyEnforceIf(\n",
    "        model.NewBoolVar(f\"has_shift_{a}_{s}\")\n",
    "    )\n",
    "\n",
    "# Constraint: Each day must be covered by exactly one attending\n",
    "for d in days:\n",
    "    model.Add(\n",
    "        sum(presences[(a, s, d)] for a in range(num_attendings) for s in range(4)) == 1\n",
    "    )\n",
    "\n",
    "# Constraint: Ensure non-overlapping work periods for the same attending\n",
    "for a in range(num_attendings):\n",
    "    model.AddNoOverlap(intervals[a * 4 : (a + 1) * 4])\n",
    "\n",
    "model.SetName(\"Faculty Scheduler\")\n",
    "print(model.ModelStats())"
   ]
  },
  {
   "cell_type": "code",
   "execution_count": 58,
   "id": "6caced18-c6d5-4621-b3d6-c96ed0779e46",
   "metadata": {
    "execution": {
     "iopub.execute_input": "2025-03-15T01:36:20.462337Z",
     "iopub.status.busy": "2025-03-15T01:36:20.462098Z",
     "iopub.status.idle": "2025-03-15T01:36:20.483925Z",
     "shell.execute_reply": "2025-03-15T01:36:20.483014Z",
     "shell.execute_reply.started": "2025-03-15T01:36:20.462317Z"
    }
   },
   "outputs": [
    {
     "name": "stdout",
     "output_type": "stream",
     "text": [
      "No feasible solution found.\n"
     ]
    }
   ],
   "source": [
    "# Solve the model\n",
    "solver = cp_model.CpSolver()\n",
    "status = solver.Solve(model)\n",
    "\n",
    "# Print the schedule\n",
    "if status == cp_model.FEASIBLE or status == cp_model.OPTIMAL:\n",
    "    for d in days:\n",
    "        working_attendings = [attendings[a] for a in range(num_attendings) for s in range(4) if solver.Value(presences[(a, s, d)])]\n",
    "        print(f\"Day {d+1}: {', '.join(working_attendings)}\")\n",
    "else:\n",
    "    print(\"No feasible solution found.\")"
   ]
  },
  {
   "cell_type": "code",
   "execution_count": 53,
   "id": "e35b7a7e-ef28-4248-94c5-9f220d17cb88",
   "metadata": {
    "execution": {
     "iopub.execute_input": "2025-03-15T01:31:00.491591Z",
     "iopub.status.busy": "2025-03-15T01:31:00.491344Z",
     "iopub.status.idle": "2025-03-15T01:31:00.498737Z",
     "shell.execute_reply": "2025-03-15T01:31:00.497950Z",
     "shell.execute_reply.started": "2025-03-15T01:31:00.491570Z"
    }
   },
   "outputs": [
    {
     "name": "stdout",
     "output_type": "stream",
     "text": [
      "CpSolverResponse summary:\n",
      "status: INFEASIBLE\n",
      "objective: NA\n",
      "best_bound: NA\n",
      "integers: 0\n",
      "booleans: 0\n",
      "conflicts: 0\n",
      "branches: 0\n",
      "propagations: 0\n",
      "integer_propagations: 0\n",
      "restarts: 0\n",
      "lp_iterations: 0\n",
      "walltime: 0.0118011\n",
      "usertime: 0.0118028\n",
      "deterministic_time: 0\n",
      "gap_integral: 0\n",
      "\n"
     ]
    }
   ],
   "source": [
    "print(solver.ResponseStats())"
   ]
  }
 ],
 "metadata": {
  "kernelspec": {
   "display_name": "Python 3 (ipykernel)",
   "language": "python",
   "name": "python3"
  },
  "language_info": {
   "codemirror_mode": {
    "name": "ipython",
    "version": 3
   },
   "file_extension": ".py",
   "mimetype": "text/x-python",
   "name": "python",
   "nbconvert_exporter": "python",
   "pygments_lexer": "ipython3",
   "version": "3.13.2"
  }
 },
 "nbformat": 4,
 "nbformat_minor": 5
}
