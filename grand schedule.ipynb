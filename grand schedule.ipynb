{
 "cells": [
  {
   "cell_type": "markdown",
   "id": "de1a852e-9ef3-4ecc-94d2-62bd78ee33ef",
   "metadata": {},
   "source": [
    "Ordering by complexity to keep feasible:\n",
    "\n",
    "- [ ] Minimum viable - assign subset of residents to subset of rotations with no requirements or maximization as reliable test bed\n",
    "- [ ] Implement preference maximization with repeatable known output\n",
    "- [ ] Implement residents required last - requires \"full beans\" inputs to give enough blocks to fit requirements\n",
    "\n",
    "If promising results:\n",
    "- [ ] Implement Madigan/FM handling"
   ]
  },
  {
   "cell_type": "code",
   "execution_count": null,
   "id": "f1c293d2-8466-453c-be6c-2c531714752d",
   "metadata": {},
   "outputs": [],
   "source": [
    "import pandas as pd\n",
    "from ortools.sat.python import cp_model\n",
    "from icecream import ic"
   ]
  },
  {
   "cell_type": "code",
   "execution_count": null,
   "id": "fbcc8bf7-f88a-4a75-a323-63b76d5045d7",
   "metadata": {},
   "outputs": [],
   "source": [
    "names = pd.read_excel(\"inputs.xlsx\", sheet_name=\"resident names\").head() #sampled"
   ]
  },
  {
   "cell_type": "code",
   "execution_count": null,
   "id": "a341cecc-5562-4034-a912-7778b92af388",
   "metadata": {},
   "outputs": [],
   "source": [
    "rotations = pd.read_excel(\"inputs.xlsx\", sheet_name=\"rotations\")"
   ]
  },
  {
   "cell_type": "code",
   "execution_count": null,
   "id": "66702565-1db1-4d3b-9f7e-312b198775d1",
   "metadata": {},
   "outputs": [],
   "source": [
    "blocks = pd.read_excel(\"inputs.xlsx\", sheet_name=\"blocks\")"
   ]
  },
  {
   "cell_type": "code",
   "execution_count": null,
   "id": "6514c6cf-59d4-4916-b5fa-fc313511473d",
   "metadata": {},
   "outputs": [],
   "source": []
  },
  {
   "cell_type": "code",
   "execution_count": null,
   "id": "39efb912-0af4-4c0c-bb11-93ea7942c7f8",
   "metadata": {},
   "outputs": [],
   "source": [
    "model = cp_model.CpModel()\n",
    "model.SetName(\"Residency Scheduler\")\n",
    "\n",
    "x = {}\n",
    "for n in names.name:\n",
    "    for r in rotations.name:\n",
    "        for b in blocks.block:\n",
    "            x[n,r,b] = model.NewBoolVar(f\"{n} - {r} - Block {b} | interval:\")\n",
    "\n",
    "\n",
    "\n",
    "print(model.ModelStats())"
   ]
  },
  {
   "cell_type": "code",
   "execution_count": null,
   "id": "bbf6e45e-cc5f-4998-b9d5-dcd35ba1b49c",
   "metadata": {},
   "outputs": [],
   "source": [
    "rotations"
   ]
  },
  {
   "cell_type": "code",
   "execution_count": null,
   "id": "7369d9cf-22af-4ec5-b353-ffef7cde271d",
   "metadata": {},
   "outputs": [],
   "source": [
    "variables = []\n",
    "\n",
    "model = cp_model.CpModel()\n",
    "model.SetName(\"Residency Scheduler\")\n",
    "\n",
    "for n in names.name:\n",
    "    for r in rotations.name:\n",
    "        for b in blocks.block:\n",
    "            var = model.NewBoolVar(f\"{n} - {r} - Block {b} | interval:\")\n",
    "            variables.append((n, r, b, var))\n",
    "\n",
    "model_var_tracker = pd.DataFrame(variables, columns=[\"Resident\", \"Rotation\", \"Block\", \"Variable Label\"])\n",
    "\n",
    "# Residents are always scheduled to something\n",
    "for n in names.name:\n",
    "    for b in blocks.block:\n",
    "        # model.Add(\n",
    "        #     sum(model_var_tracker.query(\"Resident == @n and Block == @b\")[\"Variable Label\"]) == 1\n",
    "        # )\n",
    "        model.AddExactlyOne(model_var_tracker.query(\"Resident == @n and Block == @b\")[\"Variable Label\"])\n",
    "\n",
    "# Residents do rotations no more than a certain number of times\n",
    "for n in names.name:\n",
    "    for r in rotations.name:\n",
    "        for b in blocks.block:\n",
    "            rotations.query(\"name == @r\")[\"maximum_repeats\"].values[0]\n",
    "\n",
    "# Don't schedule more residents on a rotation during each block than max\n",
    "for r in rotations.name:\n",
    "    for b in blocks.block:\n",
    "        max_residents = rotations.query(\"name == @r\")[\"maximum_residents\"].values[0]  # Get max resident limit for rotation\n",
    "        model.Add(\n",
    "            sum(model_var_tracker.query(\"Rotation == @r and Block == @b\")[\"Variable Label\"]) <= max_residents\n",
    "        )\n",
    "\n",
    "\n",
    "print(model.ModelStats())"
   ]
  },
  {
   "cell_type": "code",
   "execution_count": null,
   "id": "9569ed66-c6a6-438b-8b8e-b3074f3ba849",
   "metadata": {},
   "outputs": [],
   "source": [
    "rotations.query(\"name == @r\")[\"maximum_repeats\"].values[0]"
   ]
  },
  {
   "cell_type": "code",
   "execution_count": null,
   "id": "baeea095-4218-4064-ae18-f543a250121e",
   "metadata": {},
   "outputs": [],
   "source": [
    "model_var_tracker.query(\"Rotation == @r and Block == @b\")[\"Variable Label\"]"
   ]
  },
  {
   "cell_type": "code",
   "execution_count": null,
   "id": "a78bded5-874d-4609-add9-b4fc4013f5e2",
   "metadata": {},
   "outputs": [],
   "source": [
    "for r in rotations.name:\n",
    "    print(rotations.query(\"name == @r\")[\"maximum_residents\"].values[0])\n",
    "    break"
   ]
  },
  {
   "cell_type": "code",
   "execution_count": null,
   "id": "a1a03c28-6527-4637-90ef-b42f80ca3370",
   "metadata": {},
   "outputs": [],
   "source": [
    "# Initialize the solver\n",
    "solver = cp_model.CpSolver()\n",
    "status = solver.Solve(model)\n",
    "\n",
    "# Process and display results\n",
    "if status in (cp_model.FEASIBLE, cp_model.OPTIMAL):\n",
    "\n",
    "    if status == cp_model.FEASIBLE:\n",
    "        print(\">> Feasible\\n\")\n",
    "    elif status == cp_model.OPTIMAL:\n",
    "        print(\">> Optimal\\n\")\n",
    "    assigned_rotations = []\n",
    "\n",
    "    for _, row in model_var_tracker.iterrows():\n",
    "        # if solver.Value(row[\"Variable Label\"]) == 1:\n",
    "        assigned_rotations.append((row[\"Resident\"], row[\"Rotation\"], row[\"Block\"], solver.Value(row[\"Variable Label\"])))\n",
    "    # Convert results to a DataFrame for readability\n",
    "    results_df = pd.DataFrame(assigned_rotations, columns=[\"Resident\", \"Rotation\", \"Block\", \"Scheduled\"])\n",
    "\n",
    "else:\n",
    "    print(\"No feasible solution found.\")"
   ]
  },
  {
   "cell_type": "code",
   "execution_count": null,
   "id": "3ff3fe28-1795-4243-a17d-bbc90bc7d854",
   "metadata": {},
   "outputs": [],
   "source": [
    "results_df"
   ]
  },
  {
   "cell_type": "code",
   "execution_count": null,
   "id": "9079ddd6-9418-4a59-80bc-ba3d8211dcfb",
   "metadata": {},
   "outputs": [],
   "source": [
    "results_df.head(30)"
   ]
  },
  {
   "cell_type": "code",
   "execution_count": null,
   "id": "e2bd3c99-1e3c-4c07-9ab4-f11d2d0111af",
   "metadata": {},
   "outputs": [],
   "source": [
    "model_var_tracker"
   ]
  },
  {
   "cell_type": "code",
   "execution_count": null,
   "id": "922b11e4-38ec-478b-993b-9d263caf2af5",
   "metadata": {},
   "outputs": [],
   "source": [
    "print(model.ModelStats())"
   ]
  },
  {
   "cell_type": "code",
   "execution_count": null,
   "id": "6eb46709-8597-4d76-83ba-c78b9a5c1ac7",
   "metadata": {},
   "outputs": [],
   "source": [
    "model_var_tracker.query('Resident == @n & Rotation == @r & Block == @b')"
   ]
  },
  {
   "cell_type": "code",
   "execution_count": null,
   "id": "f3b490a0-4aa4-4df3-8003-14000c25893f",
   "metadata": {},
   "outputs": [],
   "source": [
    "model_var_tracker.query(\"Resident == @n & Block == @b\")[\"Variable Label\"]"
   ]
  },
  {
   "cell_type": "code",
   "execution_count": null,
   "id": "64662f05-42ab-4b38-9db1-a3537d69ddf4",
   "metadata": {},
   "outputs": [],
   "source": []
  }
 ],
 "metadata": {
  "kernelspec": {
   "display_name": "Python 3 (ipykernel)",
   "language": "python",
   "name": "python3"
  },
  "language_info": {
   "codemirror_mode": {
    "name": "ipython",
    "version": 3
   },
   "file_extension": ".py",
   "mimetype": "text/x-python",
   "name": "python",
   "nbconvert_exporter": "python",
   "pygments_lexer": "ipython3",
   "version": "3.11.11"
  }
 },
 "nbformat": 4,
 "nbformat_minor": 5
}
